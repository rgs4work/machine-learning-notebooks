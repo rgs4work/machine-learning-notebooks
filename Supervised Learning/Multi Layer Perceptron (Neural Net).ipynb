{
 "cells": [
  {
   "cell_type": "markdown",
   "id": "fa677f97",
   "metadata": {},
   "source": [
    "# Imports"
   ]
  },
  {
   "cell_type": "code",
   "execution_count": 1,
   "id": "fc17ae0d",
   "metadata": {},
   "outputs": [],
   "source": [
    "import numpy as np"
   ]
  },
  {
   "cell_type": "markdown",
   "id": "4b6d26e4",
   "metadata": {},
   "source": [
    "# Activation and cost functions"
   ]
  },
  {
   "cell_type": "code",
   "execution_count": 2,
   "id": "aa291184",
   "metadata": {},
   "outputs": [],
   "source": [
    "def sigmoid(x, derivative=False):\n",
    "    if derivative:\n",
    "        return np.multiply(x, (1 - x))\n",
    "    return 1 / (1 + np.exp(-x))\n",
    "\n",
    "\n",
    "def relu(x, derivative=False):\n",
    "    if derivative:\n",
    "        return (x > 0).astype(int)\n",
    "    return np.maximum(0, x)\n",
    "\n",
    "\n",
    "def linear(x, derivative=False):\n",
    "    if derivative:\n",
    "        return 1\n",
    "    return x\n",
    "\n",
    "\n",
    "def mse(target, output):\n",
    "    return np.square(target - output).mean()"
   ]
  },
  {
   "cell_type": "markdown",
   "id": "1d0b9464",
   "metadata": {},
   "source": [
    "# Optimizers"
   ]
  },
  {
   "cell_type": "code",
   "execution_count": 3,
   "id": "08e85a9d",
   "metadata": {},
   "outputs": [],
   "source": [
    "class SGD:\n",
    "    def __init__(self, learning_rate):\n",
    "        self.lr = learning_rate\n",
    "\n",
    "    def proceed(self, weights, biases, gradients, gradients_b):        \n",
    "        for n in range(1, len(weights)):           \n",
    "            weights[n] = weights[n] - self.lr * gradients[n]\n",
    "            biases[n] = biases[n] - self.lr * gradients_b[n]        \n",
    "        return weights, biases"
   ]
  },
  {
   "cell_type": "markdown",
   "id": "f5d52066",
   "metadata": {},
   "source": [
    "# Neural Net Model"
   ]
  },
  {
   "cell_type": "code",
   "execution_count": 4,
   "id": "31269c64",
   "metadata": {},
   "outputs": [],
   "source": [
    "class NeuralNet:\n",
    "    def __init__(self, nodes, activations, loss, optimizer):\n",
    "        self.layers = len(nodes)\n",
    "        self.nodes = nodes\n",
    "        self.activations = [None] + activations\n",
    "        self.loss_function = loss\n",
    "        self.optimizer = optimizer\n",
    "\n",
    "        self.weights, self.biases = self.init_weights()\n",
    "        \n",
    "\n",
    "    def init_weights(self):\n",
    "        weights = [None]\n",
    "        biases = [None]\n",
    "\n",
    "        for n in range(1, self.layers):\n",
    "            edge = np.sqrt(1/self.nodes[n-1])\n",
    "\n",
    "            # shape (layer, Previous Layer)\n",
    "            weights.append(np.random.uniform(-edge, edge,(self.nodes[n], self.nodes[n-1])))\n",
    "\n",
    "            # Bias shape(h,1) - only 1 Bias neuron per layer\n",
    "            biases.append(np.random.uniform(-edge, edge, (self.nodes[n], 1)))\n",
    "        return weights, biases\n",
    "    \n",
    "\n",
    "    def feedforward(self, input_signal):\n",
    "        outputs = [input_signal]\n",
    "\n",
    "        for i in range(1, self.layers):\n",
    "            sum_product = np.dot(self.weights[i], outputs[i-1]) + self.biases[i]\n",
    "            outputs.append(self.activations[i](sum_product))        \n",
    "        return outputs\n",
    "                           \n",
    "\n",
    "    def predict(self, input_signal):\n",
    "        prediction = self.feedforward(input_signal)[-1]\n",
    "        return prediction\n",
    "\n",
    "    \n",
    "    def back_propagation(self, outputs, target):\n",
    "        \"\"\"The delta rule for single-layered neural networks is a gradient descent method, \n",
    "        using the derivative of the network’s weights with respect to the output error to \n",
    "        adjust the weights to better classify training examples.\"\"\"\n",
    "        batch_size = target.shape[1]\n",
    "\n",
    "        weight_gradients = [None for i in range(self.layers)]\n",
    "        biase_gradients = [None for i in range(self.layers)]\n",
    "        deltas = [None for i in range(self.layers)]\n",
    "\n",
    "        loss = self.loss_function(target, outputs[-1])\n",
    "\n",
    "        # Output Layer Error and Delta\n",
    "        output_error = -(2/len(target))*(target - outputs[-1])\n",
    "        deltas[-1] = output_error * self.activations[-1](outputs[-1], derivative=True)\n",
    "\n",
    "        # Hidden Layers' Errors and Deltas\n",
    "        for i in range(-2, -self.layers, -1):\n",
    "            error = np.dot(self.weights[i+1].T, deltas[i+1])\n",
    "            deltas[i] = error * self.activations[i](outputs[i], derivative=True)\n",
    "        \n",
    "        # Hidden Layers' Gradients\n",
    "        for i in range(-1, -self.layers, -1):\n",
    "            weight_gradients[i] = np.dot(deltas[i],  outputs[i-1].T) / batch_size\n",
    "            biase_gradients[i] = np.mean(deltas[i], axis=1, keepdims=True)\n",
    "\n",
    "        return weight_gradients, biase_gradients\n",
    "\n",
    "    \n",
    "    def update_weights(self, gradients, gradients_b):\n",
    "        '''Returns updated weights'''\n",
    "        self.weights, self.biases = self.optimizer.proceed(self.weights, self.biases, gradients, gradients_b)"
   ]
  },
  {
   "cell_type": "markdown",
   "id": "755612d4",
   "metadata": {},
   "source": [
    "# Example"
   ]
  },
  {
   "cell_type": "code",
   "execution_count": 5,
   "id": "227b0dfd",
   "metadata": {},
   "outputs": [
    {
     "name": "stdout",
     "output_type": "stream",
     "text": [
      "[[0.01141374 0.99257334 0.96196648 0.00695083]]\n",
      "Wall time: 1.23 s\n"
     ]
    }
   ],
   "source": [
    "%%time\n",
    "input_signal = np.array([[0, 0], [0, 1], [1, 0], [1, 1]]).T\n",
    "target_signal = np.array([[0], [1], [1], [0]]).T\n",
    "\n",
    "\n",
    "#Create the Model\n",
    "nn1 = NeuralNet(nodes=[2, 8, 8, 1],\n",
    "                 activations=[relu, relu, sigmoid],\n",
    "                 loss=mse,\n",
    "                 optimizer=SGD(0.1))\n",
    "\n",
    "#Train the Model\n",
    "for epochs in range(10000):\n",
    "    ff = nn1.feedforward(input_signal)\n",
    "    gradients = nn1.back_propagation(ff,target_signal)\n",
    "    nn1.update_weights(*gradients)\n",
    "\n",
    "#Check the Model \n",
    "print(nn1.predict(input_signal))"
   ]
  }
 ],
 "metadata": {
  "kernelspec": {
   "display_name": "Python 3 (ipykernel)",
   "language": "python",
   "name": "python3"
  },
  "language_info": {
   "codemirror_mode": {
    "name": "ipython",
    "version": 3
   },
   "file_extension": ".py",
   "mimetype": "text/x-python",
   "name": "python",
   "nbconvert_exporter": "python",
   "pygments_lexer": "ipython3",
   "version": "3.9.6"
  },
  "toc": {
   "base_numbering": 1,
   "nav_menu": {},
   "number_sections": true,
   "sideBar": true,
   "skip_h1_title": false,
   "title_cell": "Table of Contents",
   "title_sidebar": "Contents",
   "toc_cell": false,
   "toc_position": {},
   "toc_section_display": true,
   "toc_window_display": true
  }
 },
 "nbformat": 4,
 "nbformat_minor": 5
}
